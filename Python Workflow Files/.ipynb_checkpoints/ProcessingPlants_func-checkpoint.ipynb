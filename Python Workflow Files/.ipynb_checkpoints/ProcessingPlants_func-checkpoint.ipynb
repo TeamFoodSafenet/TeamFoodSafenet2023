{
 "cells": [
  {
   "cell_type": "code",
   "execution_count": null,
   "id": "7ab6e0fc-c639-4e34-b54c-4de5024c481c",
   "metadata": {},
   "outputs": [],
   "source": [
    "def processingplant_function(fake, ftl_item, supply_chain, entities_df):\n",
    "    processing_plant = entities_df[entities_df.businessType == 'processing_plant'].sample()\n",
    "    packaged_type = supply_chain[supply_chain.index('processing_plant') + 1]\n",
    "\n",
    "    # Initialize the CTEs for the processing plant\n",
    "    ctes = {}\n",
    "\n",
    "    # Determine what the next entity is for the KDEs that happen at the processing plant\n",
    "    if packaged_type == 'receiving':\n",
    "        next_entity = processing_plant\n",
    "        ctes['Receiving'] = receiving_cte(fake, ftl_item, next_entity)\n",
    "        ctes['Transformation'] = transformation_cte(fake, ftl_item, next_entity)\n",
    "        ctes['Shipping'] = shipping_cte(fake, ftl_item, next_entity)\n",
    "    elif packaged_type == 'transformation':\n",
    "        next_entity = entities_df[entities_df.businessType == 'transformation'].sample()\n",
    "        ctes['Receiving'] = receiving_cte(fake, ftl_item, next_entity)\n",
    "        ctes['Transformation'] = transformation_cte(fake, ftl_item, next_entity)\n",
    "        ctes['Shipping'] = shipping_cte(fake, ftl_item, next_entity)\n",
    "\n",
    "    return ctes"
   ]
  }
 ],
 "metadata": {
  "kernelspec": {
   "display_name": "Python 3",
   "language": "python",
   "name": "python3"
  },
  "language_info": {
   "codemirror_mode": {
    "name": "ipython",
    "version": 3
   },
   "file_extension": ".py",
   "mimetype": "text/x-python",
   "name": "python",
   "nbconvert_exporter": "python",
   "pygments_lexer": "ipython3",
   "version": "3.8.8"
  }
 },
 "nbformat": 4,
 "nbformat_minor": 5
}
